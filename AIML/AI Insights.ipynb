{
 "cells": [
  {
   "cell_type": "code",
   "execution_count": 1,
   "metadata": {},
   "outputs": [],
   "source": [
    "from openai import OpenAI"
   ]
  },
  {
   "cell_type": "code",
   "execution_count": 2,
   "metadata": {},
   "outputs": [],
   "source": [
    "client = OpenAI()"
   ]
  },
  {
   "cell_type": "code",
   "execution_count": 25,
   "metadata": {},
   "outputs": [],
   "source": [
    "query = 'What is the average age of the customers taking home loans more than 30 lakhs? What is the average annual income of such customers?'"
   ]
  },
  {
   "cell_type": "code",
   "execution_count": 28,
   "metadata": {},
   "outputs": [],
   "source": [
    "completion = client.chat.completions.create(\n",
    "    model=\"gpt-4o-mini\",\n",
    "    \n",
    "    messages=[\n",
    "        {\"role\": \"system\", \"content\":\"\"\"You are a helpful AI assistant. Your job is to provide helpful insights to the bank employees and customers and answer their queries. \n",
    "\n",
    "### Entities\n",
    "\n",
    "- (l:Loan {min_amount:'integer',max_amount:'integer',credit_score:'integer',income:'integer',loan_income_ratio:'integer'})\n",
    "\n",
    "- (c:Customer {name:'string',credit_score:'integer',age:'integer',annual_income:'integer',marital_status:'string',employement_type:'string'})\n",
    "\n",
    "- (i:Interest {amount:'integer',rbi_repo_rate:'integer',tenure:'integer'})\n",
    "\n",
    "### Relationships\n",
    "\n",
    "- Loan - [:taken_by] -> Customer\n",
    "- Customer - [:interest_rate] -> Interest\n",
    "\n",
    "### Explaination\n",
    "\n",
    "- Loan entity is the loan slabs defined by the banks such as 30-75 lakhs.\n",
    "- Credit Score, Income, Loan to Income ratio are the parameters that should be satisfied for the customer to be eligible for that loan amount\n",
    "- Similarily Interest Rates also have some parameters on which it depends and changes with respect to them quarterly.\n",
    "- A Loan Amount is borrowed by an eligible customer and a floating interest rate is assigned to him/her which changes quarterly based on the aforementioned parameters.\n",
    "\n",
    "Give your response only in the following JSON formats:\n",
    "\n",
    "1. You can answer user's query without any additional information:\n",
    "\n",
    "{\n",
    "    \"response\" : \"final response\", \n",
    "    \"reasoning\" : \" Thought process behind the decision\"\n",
    "}\n",
    "\n",
    "2. You need additional information from the internet:\n",
    "\n",
    "{\n",
    "    \"search\" : \"String representing the information that you want to search on the internet\", \n",
    "    \"reasoning\" : \" Thought process behind the decision\"\n",
    "}\n",
    "\n",
    "3. You need additional information from the database:\n",
    "\n",
    "{\n",
    "    \"fetch\" : [List of Neo4J cypher queries], \n",
    "    \"reasoning\" : \" Thought process behind the decision\"\n",
    "}\n",
    "\"\"\"},\n",
    "        {\n",
    "            \"role\": \"user\",\n",
    "            \"content\": f\"user: {query}\"\n",
    "        }\n",
    "    ]\n",
    ")"
   ]
  },
  {
   "cell_type": "code",
   "execution_count": 29,
   "metadata": {},
   "outputs": [
    {
     "name": "stdout",
     "output_type": "stream",
     "text": [
      "{\n",
      "    \"fetch\": [\n",
      "        \"MATCH (c:Customer)-[:taken_by]->(l:Loan) WHERE l.min_amount > 3000000 RETURN avg(c.age) AS average_age, avg(c.annual_income) AS average_income\"\n",
      "    ],\n",
      "    \"reasoning\": \"To calculate the average age and annual income of customers taking home loans above 30 lakhs, I need to fetch the relevant data from the database.\"\n",
      "}\n"
     ]
    }
   ],
   "source": [
    "print(completion.choices[0].message.content)"
   ]
  },
  {
   "cell_type": "code",
   "execution_count": null,
   "metadata": {},
   "outputs": [],
   "source": []
  }
 ],
 "metadata": {
  "kernelspec": {
   "display_name": "venv",
   "language": "python",
   "name": "python3"
  },
  "language_info": {
   "codemirror_mode": {
    "name": "ipython",
    "version": 3
   },
   "file_extension": ".py",
   "mimetype": "text/x-python",
   "name": "python",
   "nbconvert_exporter": "python",
   "pygments_lexer": "ipython3",
   "version": "3.11.4"
  }
 },
 "nbformat": 4,
 "nbformat_minor": 2
}
